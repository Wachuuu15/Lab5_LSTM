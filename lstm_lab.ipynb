{
 "cells": [
  {
   "cell_type": "code",
   "execution_count": 2,
   "id": "91043135adcb586d",
   "metadata": {
    "ExecuteTime": {
     "end_time": "2024-08-23T21:54:14.474320Z",
     "start_time": "2024-08-23T21:54:10.705452Z"
    },
    "collapsed": false
   },
   "outputs": [],
   "source": [
    "import numpy as np\n",
    "from tensorflow.keras.datasets import imdb\n",
    "from tensorflow.keras.preprocessing.sequence import pad_sequences\n",
    "from tensorflow.keras.models import Sequential\n",
    "from tensorflow.keras.layers import Conv1D, MaxPooling1D, LSTM, Dense, Embedding, Dropout\n",
    "from tensorflow.keras.callbacks import EarlyStopping"
   ]
  },
  {
   "cell_type": "code",
   "execution_count": 2,
   "id": "8b431afa000f87ac",
   "metadata": {
    "ExecuteTime": {
     "end_time": "2024-08-23T21:58:58.671618Z",
     "start_time": "2024-08-23T21:58:58.666414Z"
    },
    "collapsed": false
   },
   "outputs": [],
   "source": [
    "# Load and preprocess the data\n",
    "max_features = 1000\n",
    "maxlen = 500"
   ]
  },
  {
   "cell_type": "code",
   "execution_count": 3,
   "id": "82e732bca9daccc8",
   "metadata": {
    "ExecuteTime": {
     "end_time": "2024-08-23T21:59:02.622047Z",
     "start_time": "2024-08-23T21:59:00.129751Z"
    },
    "collapsed": false
   },
   "outputs": [],
   "source": [
    "(X_train, y_train), (X_test, y_test) = imdb.load_data(num_words=max_features)\n",
    "X_train = pad_sequences(X_train, maxlen=maxlen)\n",
    "X_test = pad_sequences(X_test, maxlen=maxlen)"
   ]
  },
  {
   "cell_type": "code",
   "execution_count": null,
   "id": "1d52ce9a",
   "metadata": {},
   "outputs": [],
   "source": [
    "# Modelo anterior\n",
    "# model = Sequential()\n",
    "# model.add(Embedding(max_features, 32))\n",
    "# model.add(LSTM(4))\n",
    "# model.add(Dense(1, activation='sigmoid'))\n",
    "# model.summary()\n",
    "# model.compile(optimizer='adam', loss='binary_crossentropy', metrics=['accuracy'], run_eagerly=True)"
   ]
  },
  {
   "cell_type": "code",
   "execution_count": 4,
   "id": "2ef0e5fe",
   "metadata": {},
   "outputs": [],
   "source": [
    "embedding_size = 128  # Tamaño del embedding\n",
    "filters = 64          # Número de filtros para Conv1D\n",
    "kernel_size = 5       # Tamaño del kernel para Conv1D\n",
    "lstm_units = 64       # Unidades de LSTM"
   ]
  },
  {
   "cell_type": "code",
   "execution_count": 5,
   "id": "992fcbe3d61aed31",
   "metadata": {
    "ExecuteTime": {
     "end_time": "2024-08-23T21:59:04.092213Z",
     "start_time": "2024-08-23T21:59:03.942657Z"
    },
    "collapsed": false
   },
   "outputs": [
    {
     "name": "stderr",
     "output_type": "stream",
     "text": [
      "c:\\Users\\jenni\\AppData\\Local\\Programs\\Python\\Python311\\Lib\\site-packages\\keras\\src\\layers\\core\\embedding.py:90: UserWarning: Argument `input_length` is deprecated. Just remove it.\n",
      "  warnings.warn(\n"
     ]
    },
    {
     "data": {
      "text/html": [
       "<pre style=\"white-space:pre;overflow-x:auto;line-height:normal;font-family:Menlo,'DejaVu Sans Mono',consolas,'Courier New',monospace\"><span style=\"font-weight: bold\">Model: \"sequential\"</span>\n",
       "</pre>\n"
      ],
      "text/plain": [
       "\u001b[1mModel: \"sequential\"\u001b[0m\n"
      ]
     },
     "metadata": {},
     "output_type": "display_data"
    },
    {
     "data": {
      "text/html": [
       "<pre style=\"white-space:pre;overflow-x:auto;line-height:normal;font-family:Menlo,'DejaVu Sans Mono',consolas,'Courier New',monospace\">┏━━━━━━━━━━━━━━━━━━━━━━━━━━━━━━━━━┳━━━━━━━━━━━━━━━━━━━━━━━━┳━━━━━━━━━━━━━━━┓\n",
       "┃<span style=\"font-weight: bold\"> Layer (type)                    </span>┃<span style=\"font-weight: bold\"> Output Shape           </span>┃<span style=\"font-weight: bold\">       Param # </span>┃\n",
       "┡━━━━━━━━━━━━━━━━━━━━━━━━━━━━━━━━━╇━━━━━━━━━━━━━━━━━━━━━━━━╇━━━━━━━━━━━━━━━┩\n",
       "│ embedding (<span style=\"color: #0087ff; text-decoration-color: #0087ff\">Embedding</span>)           │ ?                      │   <span style=\"color: #00af00; text-decoration-color: #00af00\">0</span> (unbuilt) │\n",
       "├─────────────────────────────────┼────────────────────────┼───────────────┤\n",
       "│ conv1d (<span style=\"color: #0087ff; text-decoration-color: #0087ff\">Conv1D</span>)                 │ ?                      │   <span style=\"color: #00af00; text-decoration-color: #00af00\">0</span> (unbuilt) │\n",
       "├─────────────────────────────────┼────────────────────────┼───────────────┤\n",
       "│ max_pooling1d (<span style=\"color: #0087ff; text-decoration-color: #0087ff\">MaxPooling1D</span>)    │ ?                      │   <span style=\"color: #00af00; text-decoration-color: #00af00\">0</span> (unbuilt) │\n",
       "├─────────────────────────────────┼────────────────────────┼───────────────┤\n",
       "│ lstm (<span style=\"color: #0087ff; text-decoration-color: #0087ff\">LSTM</span>)                     │ ?                      │   <span style=\"color: #00af00; text-decoration-color: #00af00\">0</span> (unbuilt) │\n",
       "├─────────────────────────────────┼────────────────────────┼───────────────┤\n",
       "│ dense (<span style=\"color: #0087ff; text-decoration-color: #0087ff\">Dense</span>)                   │ ?                      │   <span style=\"color: #00af00; text-decoration-color: #00af00\">0</span> (unbuilt) │\n",
       "└─────────────────────────────────┴────────────────────────┴───────────────┘\n",
       "</pre>\n"
      ],
      "text/plain": [
       "┏━━━━━━━━━━━━━━━━━━━━━━━━━━━━━━━━━┳━━━━━━━━━━━━━━━━━━━━━━━━┳━━━━━━━━━━━━━━━┓\n",
       "┃\u001b[1m \u001b[0m\u001b[1mLayer (type)                   \u001b[0m\u001b[1m \u001b[0m┃\u001b[1m \u001b[0m\u001b[1mOutput Shape          \u001b[0m\u001b[1m \u001b[0m┃\u001b[1m \u001b[0m\u001b[1m      Param #\u001b[0m\u001b[1m \u001b[0m┃\n",
       "┡━━━━━━━━━━━━━━━━━━━━━━━━━━━━━━━━━╇━━━━━━━━━━━━━━━━━━━━━━━━╇━━━━━━━━━━━━━━━┩\n",
       "│ embedding (\u001b[38;5;33mEmbedding\u001b[0m)           │ ?                      │   \u001b[38;5;34m0\u001b[0m (unbuilt) │\n",
       "├─────────────────────────────────┼────────────────────────┼───────────────┤\n",
       "│ conv1d (\u001b[38;5;33mConv1D\u001b[0m)                 │ ?                      │   \u001b[38;5;34m0\u001b[0m (unbuilt) │\n",
       "├─────────────────────────────────┼────────────────────────┼───────────────┤\n",
       "│ max_pooling1d (\u001b[38;5;33mMaxPooling1D\u001b[0m)    │ ?                      │   \u001b[38;5;34m0\u001b[0m (unbuilt) │\n",
       "├─────────────────────────────────┼────────────────────────┼───────────────┤\n",
       "│ lstm (\u001b[38;5;33mLSTM\u001b[0m)                     │ ?                      │   \u001b[38;5;34m0\u001b[0m (unbuilt) │\n",
       "├─────────────────────────────────┼────────────────────────┼───────────────┤\n",
       "│ dense (\u001b[38;5;33mDense\u001b[0m)                   │ ?                      │   \u001b[38;5;34m0\u001b[0m (unbuilt) │\n",
       "└─────────────────────────────────┴────────────────────────┴───────────────┘\n"
      ]
     },
     "metadata": {},
     "output_type": "display_data"
    },
    {
     "data": {
      "text/html": [
       "<pre style=\"white-space:pre;overflow-x:auto;line-height:normal;font-family:Menlo,'DejaVu Sans Mono',consolas,'Courier New',monospace\"><span style=\"font-weight: bold\"> Total params: </span><span style=\"color: #00af00; text-decoration-color: #00af00\">0</span> (0.00 B)\n",
       "</pre>\n"
      ],
      "text/plain": [
       "\u001b[1m Total params: \u001b[0m\u001b[38;5;34m0\u001b[0m (0.00 B)\n"
      ]
     },
     "metadata": {},
     "output_type": "display_data"
    },
    {
     "data": {
      "text/html": [
       "<pre style=\"white-space:pre;overflow-x:auto;line-height:normal;font-family:Menlo,'DejaVu Sans Mono',consolas,'Courier New',monospace\"><span style=\"font-weight: bold\"> Trainable params: </span><span style=\"color: #00af00; text-decoration-color: #00af00\">0</span> (0.00 B)\n",
       "</pre>\n"
      ],
      "text/plain": [
       "\u001b[1m Trainable params: \u001b[0m\u001b[38;5;34m0\u001b[0m (0.00 B)\n"
      ]
     },
     "metadata": {},
     "output_type": "display_data"
    },
    {
     "data": {
      "text/html": [
       "<pre style=\"white-space:pre;overflow-x:auto;line-height:normal;font-family:Menlo,'DejaVu Sans Mono',consolas,'Courier New',monospace\"><span style=\"font-weight: bold\"> Non-trainable params: </span><span style=\"color: #00af00; text-decoration-color: #00af00\">0</span> (0.00 B)\n",
       "</pre>\n"
      ],
      "text/plain": [
       "\u001b[1m Non-trainable params: \u001b[0m\u001b[38;5;34m0\u001b[0m (0.00 B)\n"
      ]
     },
     "metadata": {},
     "output_type": "display_data"
    }
   ],
   "source": [
    "# Definir el modelo\n",
    "model = Sequential()\n",
    "model.add(Embedding(max_features, embedding_size, input_length=maxlen))\n",
    "model.add(Conv1D(filters, kernel_size, activation='relu'))\n",
    "model.add(MaxPooling1D(pool_size=2))\n",
    "model.add(LSTM(lstm_units, dropout=0.2, recurrent_dropout=0.2))\n",
    "model.add(Dense(1, activation='sigmoid'))\n",
    "model.summary()\n",
    "model.compile(optimizer='adam', loss='binary_crossentropy', metrics=['accuracy'], run_eagerly=True)\n",
    "\n",
    "\n",
    "# Configurar EarlyStopping\n",
    "early_stopping = EarlyStopping(monitor='val_loss',  # Métrica a monitorear\n",
    "                               patience=2,         # Número de épocas sin mejora antes de detener el entrenamiento\n",
    "                               restore_best_weights=True)  # Restaurar los pesos del mejor modelo\n"
   ]
  },
  {
   "cell_type": "markdown",
   "id": "dce36018",
   "metadata": {},
   "source": [
    "Se utilizó una capa Conv1D seguida de MaxPooling1D para extraer características locales de las secuencias de texto. Esto permite detectar patrones y combinaciones de palabras que podrían ser indicativas de la polaridad del sentimiento. La Conv1D con 64 filtros y un kernel de tamaño 5 permite una extracción eficaz de n-gramas, y el MaxPooling1D ayuda a reducir la dimensionalidad, lo que facilita el procesamiento en la siguiente capa.\n",
    "\n",
    "Estas capas ayudan a reducir el ruido en los datos y a extraer características más robustas, lo que debería mejorar la capacidad del modelo para generalizar en el conjunto de validación."
   ]
  },
  {
   "cell_type": "markdown",
   "id": "96a2c2f7",
   "metadata": {},
   "source": [
    "La capa LSTM permite capturar dependencias a largo plazo en las secuencias, lo cual es crucial para la tarea de análisis de sentimientos. Se ha añadido un Dropout del 20% tanto en las conexiones recurrentes como en las no recurrentes para prevenir el sobreajuste. El Dropout ayuda a mitigar el riesgo de que el modelo se especialice demasiado en los datos de entrenamiento, lo que podría llevar a un rendimiento deficiente en nuevos datos."
   ]
  },
  {
   "cell_type": "code",
   "execution_count": 6,
   "id": "7a2490ca",
   "metadata": {},
   "outputs": [
    {
     "name": "stdout",
     "output_type": "stream",
     "text": [
      "Epoch 1/10\n",
      "\u001b[1m391/391\u001b[0m \u001b[32m━━━━━━━━━━━━━━━━━━━━\u001b[0m\u001b[37m\u001b[0m \u001b[1m1656s\u001b[0m 4s/step - accuracy: 0.6899 - loss: 0.5566 - val_accuracy: 0.8212 - val_loss: 0.4109\n",
      "Epoch 2/10\n",
      "\u001b[1m391/391\u001b[0m \u001b[32m━━━━━━━━━━━━━━━━━━━━\u001b[0m\u001b[37m\u001b[0m \u001b[1m1264s\u001b[0m 3s/step - accuracy: 0.8391 - loss: 0.3781 - val_accuracy: 0.8626 - val_loss: 0.3239\n",
      "Epoch 3/10\n",
      "\u001b[1m391/391\u001b[0m \u001b[32m━━━━━━━━━━━━━━━━━━━━\u001b[0m\u001b[37m\u001b[0m \u001b[1m1242s\u001b[0m 3s/step - accuracy: 0.8600 - loss: 0.3342 - val_accuracy: 0.8598 - val_loss: 0.3333\n",
      "Epoch 4/10\n",
      "\u001b[1m391/391\u001b[0m \u001b[32m━━━━━━━━━━━━━━━━━━━━\u001b[0m\u001b[37m\u001b[0m \u001b[1m1264s\u001b[0m 3s/step - accuracy: 0.8691 - loss: 0.3127 - val_accuracy: 0.8326 - val_loss: 0.3954\n",
      "Epoch 5/10\n",
      "\u001b[1m391/391\u001b[0m \u001b[32m━━━━━━━━━━━━━━━━━━━━\u001b[0m\u001b[37m\u001b[0m \u001b[1m981s\u001b[0m 3s/step - accuracy: 0.8458 - loss: 0.3553 - val_accuracy: 0.8619 - val_loss: 0.3311\n",
      "Epoch 6/10\n",
      "\u001b[1m391/391\u001b[0m \u001b[32m━━━━━━━━━━━━━━━━━━━━\u001b[0m\u001b[37m\u001b[0m \u001b[1m26496s\u001b[0m 68s/step - accuracy: 0.8731 - loss: 0.3021 - val_accuracy: 0.8734 - val_loss: 0.3076\n",
      "Epoch 7/10\n",
      "\u001b[1m391/391\u001b[0m \u001b[32m━━━━━━━━━━━━━━━━━━━━\u001b[0m\u001b[37m\u001b[0m \u001b[1m967s\u001b[0m 2s/step - accuracy: 0.8850 - loss: 0.2852 - val_accuracy: 0.8763 - val_loss: 0.3000\n",
      "Epoch 8/10\n",
      "\u001b[1m391/391\u001b[0m \u001b[32m━━━━━━━━━━━━━━━━━━━━\u001b[0m\u001b[37m\u001b[0m \u001b[1m18116s\u001b[0m 46s/step - accuracy: 0.8963 - loss: 0.2594 - val_accuracy: 0.8760 - val_loss: 0.2959\n",
      "Epoch 9/10\n",
      "\u001b[1m391/391\u001b[0m \u001b[32m━━━━━━━━━━━━━━━━━━━━\u001b[0m\u001b[37m\u001b[0m \u001b[1m1272s\u001b[0m 3s/step - accuracy: 0.9052 - loss: 0.2404 - val_accuracy: 0.8800 - val_loss: 0.3011\n",
      "Epoch 10/10\n",
      "\u001b[1m391/391\u001b[0m \u001b[32m━━━━━━━━━━━━━━━━━━━━\u001b[0m\u001b[37m\u001b[0m \u001b[1m1279s\u001b[0m 3s/step - accuracy: 0.9094 - loss: 0.2257 - val_accuracy: 0.8778 - val_loss: 0.2973\n"
     ]
    },
    {
     "data": {
      "text/plain": [
       "<keras.src.callbacks.history.History at 0x2946a7c4c10>"
      ]
     },
     "execution_count": 6,
     "metadata": {},
     "output_type": "execute_result"
    }
   ],
   "source": [
    "# Fit the model\n",
    "model.fit(X_train, y_train, epochs=10, batch_size=64, validation_data=(X_test, y_test))"
   ]
  },
  {
   "cell_type": "code",
   "execution_count": 7,
   "id": "initial_id",
   "metadata": {
    "ExecuteTime": {
     "end_time": "2024-08-23T22:09:29.984661Z",
     "start_time": "2024-08-23T22:08:51.818689Z"
    },
    "collapsed": true
   },
   "outputs": [
    {
     "name": "stdout",
     "output_type": "stream",
     "text": [
      "\u001b[1m782/782\u001b[0m \u001b[32m━━━━━━━━━━━━━━━━━━━━\u001b[0m\u001b[37m\u001b[0m \u001b[1m813s\u001b[0m 1s/step - accuracy: 0.8765 - loss: 0.3010\n",
      "Loss: 0.297301322221756, Accuracy: 0.8777599930763245\n"
     ]
    }
   ],
   "source": [
    "# Evaluate the model\n",
    "loss, accuracy = model.evaluate(X_test, y_test)\n",
    "print(f'Loss: {loss}, Accuracy: {accuracy}') "
   ]
  },
  {
   "cell_type": "markdown",
   "id": "6a0183bb",
   "metadata": {},
   "source": [
    "El modelo original presenta un desempeño aceptable con una precisión final en el conjunto de prueba de aproximadamente 87.78% y una pérdida de 0.297. A lo largo de las 10 épocas de entrenamiento, se observa una mejora gradual en la precisión de entrenamiento, alcanzando un 90.94%, mientras que la precisión de validación llega a un 88%. Sin embargo, también se nota cierta fluctuación en la pérdida de validación, lo que podría ser indicativo de un sobreajuste leve a medida que el entrenamiento avanza.\n",
    "\n"
   ]
  },
  {
   "cell_type": "markdown",
   "id": "af78d042",
   "metadata": {},
   "source": [
    "Los resultados indican que, a lo largo de las épocas, la pérdida de validación fluctúa, especialmente después de la tercera época, lo que sugiere que el modelo podría estar comenzando a sobreajustarse a los datos de entrenamiento. Sin embargo, la introducción de EarlyStopping ayuda a prevenir un sobreajuste severo, ya que permite que el entrenamiento se detenga una vez que no se observa una mejora significativa en la pérdida de validación.\n",
    "\n",
    "El modelo logra una precisión del 87.78% en el conjunto de prueba, lo que sugiere que es capaz de generalizar bastante bien. Sin embargo, la pérdida de validación mayor en las últimas épocas sugiere que podría haber margen para mejorar, quizás ajustando los hiperparámetros como la tasa de dropout, el tamaño del kernel en Conv1D, o incluso experimentando con capas adicionales."
   ]
  },
  {
   "cell_type": "code",
   "execution_count": 8,
   "id": "3bb2ee38b64202ac",
   "metadata": {
    "ExecuteTime": {
     "end_time": "2024-08-23T22:25:59.512702Z",
     "start_time": "2024-08-23T22:25:59.378762Z"
    },
    "collapsed": false
   },
   "outputs": [
    {
     "name": "stdout",
     "output_type": "stream",
     "text": [
      "\u001b[1m782/782\u001b[0m \u001b[32m━━━━━━━━━━━━━━━━━━━━\u001b[0m\u001b[37m\u001b[0m \u001b[1m836s\u001b[0m 1s/step\n"
     ]
    },
    {
     "data": {
      "text/plain": [
       "<function sklearn.metrics._classification.confusion_matrix(y_true, y_pred, *, labels=None, sample_weight=None, normalize=None)>"
      ]
     },
     "execution_count": 8,
     "metadata": {},
     "output_type": "execute_result"
    },
    {
     "data": {
      "image/png": "[encoded data removed]",
      "text/plain": [
       "<Figure size 640x480 with 2 Axes>"
      ]
     },
     "metadata": {},
     "output_type": "display_data"
    }
   ],
   "source": [
    "from sklearn.metrics import confusion_matrix, ConfusionMatrixDisplay\n",
    "\n",
    "predictions = model.predict(X_test)\n",
    "cm = confusion_matrix(y_test, (predictions > 0.5).astype(int))\n",
    "ConfusionMatrixDisplay(cm).plot()\n",
    "confusion_matrix\n"
   ]
  },
  {
   "cell_type": "markdown",
   "id": "5a0e0c96",
   "metadata": {},
   "source": [
    "La matriz de confusión muestra cómo el modelo clasifica correctamente la mayoría de las muestras, aunque todavía comete algunos errores. La mayor parte de estos errores provienen de clasificaciones incorrectas entre clases positivas y negativas."
   ]
  },
  {
   "cell_type": "markdown",
   "id": "13faf473",
   "metadata": {},
   "source": [
    "### Conclusión\n",
    "El modelo actual es bastante robusto para la tarea de clasificación de sentimientos en el dataset IMDB, logrando un equilibrio razonable entre la precisión y la capacidad de generalización. Sin embargo, los cambios propuestos y su justificación se centran en mejorar el desempeño y prevenir el sobreajuste, lo que podría llevar a un rendimiento aún mejor si se implementan adecuadamente."
   ]
  }
 ],
 "metadata": {
  "kernelspec": {
   "display_name": "Python 3",
   "language": "python",
   "name": "python3"
  },
  "language_info": {
   "codemirror_mode": {
    "name": "ipython",
    "version": 3
   },
   "file_extension": ".py",
   "mimetype": "text/x-python",
   "name": "python",
   "nbconvert_exporter": "python",
   "pygments_lexer": "ipython3",
   "version": "3.12.2"
  }
 },
 "nbformat": 4,
 "nbformat_minor": 5
}
